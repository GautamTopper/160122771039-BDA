{
  "nbformat": 4,
  "nbformat_minor": 0,
  "metadata": {
    "colab": {
      "provenance": []
    },
    "kernelspec": {
      "name": "python3",
      "display_name": "Python 3"
    },
    "language_info": {
      "name": "python"
    }
  },
  "cells": [
    {
      "cell_type": "markdown",
      "source": [],
      "metadata": {
        "id": "r6yMDEpCi87o"
      }
    },
    {
      "cell_type": "code",
      "source": [
        "# Build a Classification Model with Spark with a dataset of your choice\n",
        "# Install Java\n",
        "!apt-get install openjdk-8-jdk-headless -qq > /dev/null\n",
        "\n",
        "# Download Spark 3.4.1 (correct link)\n",
        "!wget -q https://archive.apache.org/dist/spark/spark-3.4.1/spark-3.4.1-bin-hadoop3.tgz\n",
        "\n",
        "# Extract the file\n",
        "!tar -xvzf spark-3.4.1-bin-hadoop3.tgz > /dev/null\n",
        "\n",
        "# Install findspark\n",
        "!pip install -q findspark\n"
      ],
      "metadata": {
        "id": "8zLtylZtlAkB"
      },
      "execution_count": null,
      "outputs": []
    },
    {
      "cell_type": "code",
      "source": [
        "import os\n",
        "import findspark\n",
        "\n",
        "os.environ[\"JAVA_HOME\"] = \"/usr/lib/jvm/java-8-openjdk-amd64\"\n",
        "os.environ[\"SPARK_HOME\"] = \"/content/spark-3.4.1-bin-hadoop3\"\n",
        "\n",
        "findspark.init()\n",
        "\n",
        "from pyspark.sql import SparkSession\n",
        "\n",
        "spark = SparkSession.builder.appName(\"SpamClassifier\").getOrCreate()\n"
      ],
      "metadata": {
        "id": "Kf9fxa0Wlntq"
      },
      "execution_count": null,
      "outputs": []
    },
    {
      "cell_type": "code",
      "source": [
        "from google.colab import files\n",
        "uploaded = files.upload()\n"
      ],
      "metadata": {
        "colab": {
          "base_uri": "https://localhost:8080/",
          "height": 73
        },
        "id": "Ljw9QQz8mXJp",
        "outputId": "189ed2fc-80fe-446f-a91e-60bda3a8cf6d"
      },
      "execution_count": null,
      "outputs": [
        {
          "output_type": "display_data",
          "data": {
            "text/plain": [
              "<IPython.core.display.HTML object>"
            ],
            "text/html": [
              "\n",
              "     <input type=\"file\" id=\"files-904972f6-85d4-45ca-9636-13d0bef59ad2\" name=\"files[]\" multiple disabled\n",
              "        style=\"border:none\" />\n",
              "     <output id=\"result-904972f6-85d4-45ca-9636-13d0bef59ad2\">\n",
              "      Upload widget is only available when the cell has been executed in the\n",
              "      current browser session. Please rerun this cell to enable.\n",
              "      </output>\n",
              "      <script>// Copyright 2017 Google LLC\n",
              "//\n",
              "// Licensed under the Apache License, Version 2.0 (the \"License\");\n",
              "// you may not use this file except in compliance with the License.\n",
              "// You may obtain a copy of the License at\n",
              "//\n",
              "//      http://www.apache.org/licenses/LICENSE-2.0\n",
              "//\n",
              "// Unless required by applicable law or agreed to in writing, software\n",
              "// distributed under the License is distributed on an \"AS IS\" BASIS,\n",
              "// WITHOUT WARRANTIES OR CONDITIONS OF ANY KIND, either express or implied.\n",
              "// See the License for the specific language governing permissions and\n",
              "// limitations under the License.\n",
              "\n",
              "/**\n",
              " * @fileoverview Helpers for google.colab Python module.\n",
              " */\n",
              "(function(scope) {\n",
              "function span(text, styleAttributes = {}) {\n",
              "  const element = document.createElement('span');\n",
              "  element.textContent = text;\n",
              "  for (const key of Object.keys(styleAttributes)) {\n",
              "    element.style[key] = styleAttributes[key];\n",
              "  }\n",
              "  return element;\n",
              "}\n",
              "\n",
              "// Max number of bytes which will be uploaded at a time.\n",
              "const MAX_PAYLOAD_SIZE = 100 * 1024;\n",
              "\n",
              "function _uploadFiles(inputId, outputId) {\n",
              "  const steps = uploadFilesStep(inputId, outputId);\n",
              "  const outputElement = document.getElementById(outputId);\n",
              "  // Cache steps on the outputElement to make it available for the next call\n",
              "  // to uploadFilesContinue from Python.\n",
              "  outputElement.steps = steps;\n",
              "\n",
              "  return _uploadFilesContinue(outputId);\n",
              "}\n",
              "\n",
              "// This is roughly an async generator (not supported in the browser yet),\n",
              "// where there are multiple asynchronous steps and the Python side is going\n",
              "// to poll for completion of each step.\n",
              "// This uses a Promise to block the python side on completion of each step,\n",
              "// then passes the result of the previous step as the input to the next step.\n",
              "function _uploadFilesContinue(outputId) {\n",
              "  const outputElement = document.getElementById(outputId);\n",
              "  const steps = outputElement.steps;\n",
              "\n",
              "  const next = steps.next(outputElement.lastPromiseValue);\n",
              "  return Promise.resolve(next.value.promise).then((value) => {\n",
              "    // Cache the last promise value to make it available to the next\n",
              "    // step of the generator.\n",
              "    outputElement.lastPromiseValue = value;\n",
              "    return next.value.response;\n",
              "  });\n",
              "}\n",
              "\n",
              "/**\n",
              " * Generator function which is called between each async step of the upload\n",
              " * process.\n",
              " * @param {string} inputId Element ID of the input file picker element.\n",
              " * @param {string} outputId Element ID of the output display.\n",
              " * @return {!Iterable<!Object>} Iterable of next steps.\n",
              " */\n",
              "function* uploadFilesStep(inputId, outputId) {\n",
              "  const inputElement = document.getElementById(inputId);\n",
              "  inputElement.disabled = false;\n",
              "\n",
              "  const outputElement = document.getElementById(outputId);\n",
              "  outputElement.innerHTML = '';\n",
              "\n",
              "  const pickedPromise = new Promise((resolve) => {\n",
              "    inputElement.addEventListener('change', (e) => {\n",
              "      resolve(e.target.files);\n",
              "    });\n",
              "  });\n",
              "\n",
              "  const cancel = document.createElement('button');\n",
              "  inputElement.parentElement.appendChild(cancel);\n",
              "  cancel.textContent = 'Cancel upload';\n",
              "  const cancelPromise = new Promise((resolve) => {\n",
              "    cancel.onclick = () => {\n",
              "      resolve(null);\n",
              "    };\n",
              "  });\n",
              "\n",
              "  // Wait for the user to pick the files.\n",
              "  const files = yield {\n",
              "    promise: Promise.race([pickedPromise, cancelPromise]),\n",
              "    response: {\n",
              "      action: 'starting',\n",
              "    }\n",
              "  };\n",
              "\n",
              "  cancel.remove();\n",
              "\n",
              "  // Disable the input element since further picks are not allowed.\n",
              "  inputElement.disabled = true;\n",
              "\n",
              "  if (!files) {\n",
              "    return {\n",
              "      response: {\n",
              "        action: 'complete',\n",
              "      }\n",
              "    };\n",
              "  }\n",
              "\n",
              "  for (const file of files) {\n",
              "    const li = document.createElement('li');\n",
              "    li.append(span(file.name, {fontWeight: 'bold'}));\n",
              "    li.append(span(\n",
              "        `(${file.type || 'n/a'}) - ${file.size} bytes, ` +\n",
              "        `last modified: ${\n",
              "            file.lastModifiedDate ? file.lastModifiedDate.toLocaleDateString() :\n",
              "                                    'n/a'} - `));\n",
              "    const percent = span('0% done');\n",
              "    li.appendChild(percent);\n",
              "\n",
              "    outputElement.appendChild(li);\n",
              "\n",
              "    const fileDataPromise = new Promise((resolve) => {\n",
              "      const reader = new FileReader();\n",
              "      reader.onload = (e) => {\n",
              "        resolve(e.target.result);\n",
              "      };\n",
              "      reader.readAsArrayBuffer(file);\n",
              "    });\n",
              "    // Wait for the data to be ready.\n",
              "    let fileData = yield {\n",
              "      promise: fileDataPromise,\n",
              "      response: {\n",
              "        action: 'continue',\n",
              "      }\n",
              "    };\n",
              "\n",
              "    // Use a chunked sending to avoid message size limits. See b/62115660.\n",
              "    let position = 0;\n",
              "    do {\n",
              "      const length = Math.min(fileData.byteLength - position, MAX_PAYLOAD_SIZE);\n",
              "      const chunk = new Uint8Array(fileData, position, length);\n",
              "      position += length;\n",
              "\n",
              "      const base64 = btoa(String.fromCharCode.apply(null, chunk));\n",
              "      yield {\n",
              "        response: {\n",
              "          action: 'append',\n",
              "          file: file.name,\n",
              "          data: base64,\n",
              "        },\n",
              "      };\n",
              "\n",
              "      let percentDone = fileData.byteLength === 0 ?\n",
              "          100 :\n",
              "          Math.round((position / fileData.byteLength) * 100);\n",
              "      percent.textContent = `${percentDone}% done`;\n",
              "\n",
              "    } while (position < fileData.byteLength);\n",
              "  }\n",
              "\n",
              "  // All done.\n",
              "  yield {\n",
              "    response: {\n",
              "      action: 'complete',\n",
              "    }\n",
              "  };\n",
              "}\n",
              "\n",
              "scope.google = scope.google || {};\n",
              "scope.google.colab = scope.google.colab || {};\n",
              "scope.google.colab._files = {\n",
              "  _uploadFiles,\n",
              "  _uploadFilesContinue,\n",
              "};\n",
              "})(self);\n",
              "</script> "
            ]
          },
          "metadata": {}
        },
        {
          "output_type": "stream",
          "name": "stdout",
          "text": [
            "Saving spam.csv to spam (1).csv\n"
          ]
        }
      ]
    },
    {
      "cell_type": "code",
      "source": [
        "df = spark.read.csv(\"spam.csv\", header=True, inferSchema=True).selectExpr(\"`v1` as label\", \"`v2` as message\")\n",
        "df.show(5)\n"
      ],
      "metadata": {
        "colab": {
          "base_uri": "https://localhost:8080/"
        },
        "id": "KDOn3nSamcSI",
        "outputId": "c2fda206-db67-462e-b4b3-4766d2e9b6dc"
      },
      "execution_count": null,
      "outputs": [
        {
          "output_type": "stream",
          "name": "stdout",
          "text": [
            "+-----+--------------------+\n",
            "|label|             message|\n",
            "+-----+--------------------+\n",
            "|  ham|Go until jurong p...|\n",
            "|  ham|Ok lar... Joking ...|\n",
            "| spam|Free entry in 2 a...|\n",
            "|  ham|U dun say so earl...|\n",
            "|  ham|Nah I don't think...|\n",
            "+-----+--------------------+\n",
            "only showing top 5 rows\n",
            "\n"
          ]
        }
      ]
    },
    {
      "cell_type": "code",
      "source": [
        "from pyspark.ml.feature import Tokenizer, StopWordsRemover, HashingTF, IDF, StringIndexer\n",
        "from pyspark.ml.classification import LogisticRegression\n",
        "from pyspark.ml import Pipeline\n",
        "\n",
        "# Label encoding\n",
        "indexer = StringIndexer(inputCol=\"label\", outputCol=\"labelIndex\")\n",
        "\n",
        "# Text processing\n",
        "tokenizer = Tokenizer(inputCol=\"message\", outputCol=\"words\")\n",
        "remover = StopWordsRemover(inputCol=\"words\", outputCol=\"filtered\")\n",
        "hashingTF = HashingTF(inputCol=\"filtered\", outputCol=\"rawFeatures\", numFeatures=1000)\n",
        "idf = IDF(inputCol=\"rawFeatures\", outputCol=\"features\")\n",
        "\n",
        "# Model\n",
        "lr = LogisticRegression(featuresCol=\"features\", labelCol=\"labelIndex\")\n",
        "\n",
        "# Build pipeline\n",
        "pipeline = Pipeline(stages=[indexer, tokenizer, remover, hashingTF, idf, lr])\n"
      ],
      "metadata": {
        "id": "ICJa0gJ2mj5Q"
      },
      "execution_count": null,
      "outputs": []
    },
    {
      "cell_type": "code",
      "source": [
        "# Split data\n",
        "\n",
        "# Drop rows with null or empty messages\n",
        "df = df.na.drop(subset=[\"message\"])\n",
        "df = df.filter(df.message != \"\")\n",
        "\n",
        "\n",
        "train_data, test_data = df.randomSplit([0.8, 0.2], seed=42)\n",
        "\n",
        "# Train model\n",
        "model = pipeline.fit(train_data)\n",
        "\n",
        "# Predictions\n",
        "predictions = model.transform(test_data)\n",
        "predictions.select(\"message\", \"label\", \"prediction\").show(10, truncate=False)\n"
      ],
      "metadata": {
        "colab": {
          "base_uri": "https://localhost:8080/"
        },
        "id": "EHy-xC_tnccZ",
        "outputId": "e07fbafb-3820-40b7-b511-a4000c74986a"
      },
      "execution_count": null,
      "outputs": [
        {
          "output_type": "stream",
          "name": "stdout",
          "text": [
            "+-----------------------------------------------------------------------------------------------------------------------------------------------------------------------------------------------------------------------------------------------------------------------------------------------------------------------------------------------------------------------------------------------------------------------------------------------------------------------+-----+----------+\n",
            "|message                                                                                                                                                                                                                                                                                                                                                                                                                                                                |label|prediction|\n",
            "+-----------------------------------------------------------------------------------------------------------------------------------------------------------------------------------------------------------------------------------------------------------------------------------------------------------------------------------------------------------------------------------------------------------------------------------------------------------------------+-----+----------+\n",
            "| &lt;DECIMAL&gt; m but its not a common car here so its better to buy from china or asia. Or if i find it less expensive. I.ll holla                                                                                                                                                                                                                                                                                                                                   |ham  |1.0       |\n",
            "| said kiss, kiss, i can't do the sound effects! He is a gorgeous man isn't he! Kind of person who needs a smile to brighten his day!                                                                                                                                                                                                                                                                                                                                   |ham  |0.0       |\n",
            "| what number do u live at? Is it 11?                                                                                                                                                                                                                                                                                                                                                                                                                                   |ham  |0.0       |\n",
            "|\"A Boy loved a gal. He propsd bt she didnt mind. He gv lv lttrs, Bt her frnds threw thm. Again d boy decided 2 aproach d gal , dt time a truck was speeding towards d gal. Wn it was about 2 hit d girl,d boy ran like hell n saved her. She asked 'hw cn u run so fast?' D boy replied \\Boost is d secret of my energy\"\" n instantly d girl shouted \\\"\"our energy\\\"\" n Thy lived happily 2gthr drinking boost evrydy Moral of d story:- I hv free msgs:D;): gud ni8\"\"\"|ham  |0.0       |\n",
            "|\"Beautiful Truth against Gravity.. Read carefully: \\Our heart feels light when someone is in it.. But it feels very heavy when someone leaves it..\"\" GOOD NIGHT\"\"\"                                                                                                                                                                                                                                                                                                     |ham  |0.0       |\n",
            "|\"Best line said in Love: . \\I will wait till the day I can forget u Or The day u realize that u cannot forget me.\"\"... Gn\"\"\"                                                                                                                                                                                                                                                                                                                                           |ham  |0.0       |\n",
            "|\"Feb  &lt;#&gt;  is \\I LOVE U\"\" day. Send dis to all ur \\\"\"VALUED FRNDS\\\"\" evn me. If 3 comes back u'll gt married d person u luv! If u ignore dis u will lose ur luv 4 Evr\"\"\"                                                                                                                                                                                                                                                                                         |ham  |0.0       |\n",
            "|\"Helloooo... Wake up..! \\Sweet\"\" \\\"\"morning\\\"\" \\\"\"welcomes\\\"\" \\\"\"You\\\"\" \\\"\"Enjoy\\\"\" \\\"\"This Day\\\"\" \\\"\"with full of joy\\\"\".. \\\"\"GUD MRNG\\\"\".\"\"\"                                                                                                                                                                                                                                                                                                                         |ham  |0.0       |\n",
            "|\"Storming msg: Wen u lift d phne, u say \\HELLO\"\" Do u knw wt is d real meaning of HELLO?? . . . It's d name of a girl..! . . . Yes.. And u knw who is dat girl?? \\\"\"Margaret Hello\\\"\" She is d girlfrnd f Grahmbell who invnted telphone... . . . . Moral:One can 4get d name of a person\"                                                                                                                                                                             |ham  |0.0       |\n",
            "|\"Superb Thought- \\Be grateful that u dont have everything u want. That means u still have an opportunity to be happier tomorrow than u are today.\"\":-)\"\"\"                                                                                                                                                                                                                                                                                                              |ham  |0.0       |\n",
            "+-----------------------------------------------------------------------------------------------------------------------------------------------------------------------------------------------------------------------------------------------------------------------------------------------------------------------------------------------------------------------------------------------------------------------------------------------------------------------+-----+----------+\n",
            "only showing top 10 rows\n",
            "\n"
          ]
        }
      ]
    },
    {
      "cell_type": "code",
      "source": [
        "from pyspark.ml.evaluation import MulticlassClassificationEvaluator\n",
        "\n",
        "evaluator = MulticlassClassificationEvaluator(\n",
        "    labelCol=\"labelIndex\", predictionCol=\"prediction\", metricName=\"accuracy\")\n",
        "\n",
        "accuracy = evaluator.evaluate(predictions)\n",
        "print(f\"✅ Accuracy: {accuracy:.2f}\")\n"
      ],
      "metadata": {
        "colab": {
          "base_uri": "https://localhost:8080/"
        },
        "id": "Lx08jr_OneSJ",
        "outputId": "0e722fb0-dd23-4d07-fd90-860a2ab8a45c"
      },
      "execution_count": null,
      "outputs": [
        {
          "output_type": "stream",
          "name": "stdout",
          "text": [
            "✅ Accuracy: 0.95\n"
          ]
        }
      ]
    },
    {
      "cell_type": "code",
      "source": [
        "# Step 1: Install Spark and findspark if not already done\n",
        "\n",
        "\n",
        "from pyspark.sql import SparkSession\n",
        "spark = SparkSession.builder.appName(\"ClusteringExample\").getOrCreate()\n",
        "\n",
        "# Step 3: Load dataset (Mall_Customers.csv)\n",
        "df = spark.read.csv(\"/content/Mall_Customers.csv\", header=True, inferSchema=True)\n",
        "df.show(5)\n",
        "\n",
        "# Step 4: Select numerical features only\n",
        "data = df.select(\"Age\", \"Annual Income (k$)\", \"Spending Score (1-100)\")\n",
        "\n",
        "# Step 5: VectorAssembler to create feature column\n",
        "from pyspark.ml.feature import VectorAssembler\n",
        "vec = VectorAssembler(inputCols=data.columns, outputCol=\"features\")\n",
        "final_data = vec.transform(data)\n",
        "\n",
        "# Step 6: KMeans Clustering\n",
        "from pyspark.ml.clustering import KMeans\n",
        "kmeans = KMeans(k=5, seed=1)\n",
        "model = kmeans.fit(final_data)\n",
        "\n",
        "# Step 7: Make predictions\n",
        "predictions = model.transform(final_data)\n",
        "\n",
        "# Step 8: Show the first few rows to inspect the data\n",
        "predictions.select(\"Age\", \"Annual Income (k$)\", \"Spending Score (1-100)\", \"prediction\").show(5, truncate=False)\n",
        "\n",
        "# Step 9: Convert to Pandas for plotting\n",
        "pandas_df = predictions.select(\"Age\", \"Annual Income (k$)\", \"Spending Score (1-100)\", \"prediction\").toPandas()\n",
        "\n",
        "# Step 10: Visualization using Matplotlib and Seaborn\n",
        "import matplotlib.pyplot as plt\n",
        "import seaborn as sns\n",
        "\n",
        "plt.figure(figsize=(8,6))\n",
        "sns.scatterplot(data=pandas_df, x=\"Annual Income (k$)\", y=\"Spending Score (1-100)\", hue=\"prediction\", palette=\"Set2\", s=100)\n",
        "plt.title(\"Customer Segments (KMeans Clustering)\")\n",
        "plt.xlabel(\"Annual Income (k$)\")\n",
        "plt.ylabel(\"Spending Score (1-100)\")\n",
        "plt.grid(True)\n",
        "plt.show()\n"
      ],
      "metadata": {
        "colab": {
          "base_uri": "https://localhost:8080/",
          "height": 946
        },
        "id": "F6-U5mraoDsB",
        "outputId": "a060bd02-b81b-4cff-e75d-064aad658708"
      },
      "execution_count": null,
      "outputs": [
        {
          "output_type": "stream",
          "name": "stdout",
          "text": [
            "+----------+------+---+------------------+----------------------+\n",
            "|CustomerID| Genre|Age|Annual Income (k$)|Spending Score (1-100)|\n",
            "+----------+------+---+------------------+----------------------+\n",
            "|         1|  Male| 19|                15|                    39|\n",
            "|         2|  Male| 21|                15|                    81|\n",
            "|         3|Female| 20|                16|                     6|\n",
            "|         4|Female| 23|                16|                    77|\n",
            "|         5|Female| 31|                17|                    40|\n",
            "+----------+------+---+------------------+----------------------+\n",
            "only showing top 5 rows\n",
            "\n",
            "+---+------------------+----------------------+----------+\n",
            "|Age|Annual Income (k$)|Spending Score (1-100)|prediction|\n",
            "+---+------------------+----------------------+----------+\n",
            "|19 |15                |39                    |1         |\n",
            "|21 |15                |81                    |0         |\n",
            "|20 |16                |6                     |1         |\n",
            "|23 |16                |77                    |0         |\n",
            "|31 |17                |40                    |1         |\n",
            "+---+------------------+----------------------+----------+\n",
            "only showing top 5 rows\n",
            "\n"
          ]
        },
        {
          "output_type": "display_data",
          "data": {
            "text/plain": [
              "<Figure size 800x600 with 1 Axes>"
            ],
            "image/png": "[encoded data removed]"
          },
          "metadata": {}
        }
      ]
    },
    {
      "cell_type": "code",
      "source": [
        "##q3)\n",
        "# Step 3: Load dataset (upload '1662574418893344.csv' to Colab)\n",
        "df = spark.read.csv(\"/content/1662574418893344.csv\", header=True, inferSchema=True)\n",
        "df.show(5)\n",
        "\n",
        "# Step 4: Check the schema of the dataset\n",
        "df.printSchema()\n",
        "\n",
        "# Step 5: Feature extraction using TF-IDF on 'Describe' column\n",
        "from pyspark.ml.feature import HashingTF, IDF, Tokenizer\n",
        "tokenizer = Tokenizer(inputCol=\"Describe\", outputCol=\"words\")\n",
        "words_data = tokenizer.transform(df)\n",
        "\n",
        "hashingTF = HashingTF(inputCol=\"words\", outputCol=\"rawFeatures\", numFeatures=1000)\n",
        "featurized_data = hashingTF.transform(words_data)\n",
        "\n",
        "idf = IDF(inputCol=\"rawFeatures\", outputCol=\"features\")\n",
        "idf_model = idf.fit(featurized_data)\n",
        "rescaled_data = idf_model.transform(featurized_data)\n",
        "\n",
        "# Step 6: Show transformed features\n",
        "rescaled_data.select(\"Food_ID\", \"Name\", \"features\").show(5)\n",
        "\n",
        "# Step 7: Build similarity model (e.g., cosine similarity) using the features\n",
        "from pyspark.ml.linalg import Vectors\n",
        "from pyspark.ml.stat import Summarizer\n",
        "\n",
        "# Step 8: Recommend similar items based on food description (Cosine Similarity)\n",
        "from pyspark.ml.feature import VectorAssembler\n",
        "from pyspark.ml.clustering import KMeans\n",
        "\n",
        "# VectorAssembler to combine the features\n",
        "assembler = VectorAssembler(inputCols=[\"features\"], outputCol=\"feature_vector\")\n",
        "data_vector = assembler.transform(rescaled_data)\n",
        "\n",
        "# Perform KMeans clustering to group similar food items based on description\n",
        "kmeans = KMeans(k=5, seed=1, featuresCol=\"feature_vector\", predictionCol=\"cluster\")\n",
        "model = kmeans.fit(data_vector)\n",
        "predictions = model.transform(data_vector)\n",
        "\n",
        "# Step 9: Show food items grouped by similar clusters\n",
        "predictions.select(\"Food_ID\", \"Name\", \"cluster\").show(5)\n",
        "\n",
        "# Step 10: You can recommend food items within the same cluster\n",
        "# For instance, to recommend items in the same cluster for a specific food item:\n",
        "recommended_items = predictions.filter(predictions.cluster == 0)  # Cluster 0 as an example\n",
        "recommended_items.select(\"Food_ID\", \"Name\").show(5)"
      ],
      "metadata": {
        "colab": {
          "base_uri": "https://localhost:8080/"
        },
        "id": "J4RRuvP9r8VS",
        "outputId": "e6f3eb22-d5fc-4871-fa1f-2ae240d04393"
      },
      "execution_count": null,
      "outputs": [
        {
          "output_type": "stream",
          "name": "stdout",
          "text": [
            "+-------+--------------------+------------+-------+--------------------+\n",
            "|Food_ID|                Name|      C_Type|Veg_Non|            Describe|\n",
            "+-------+--------------------+------------+-------+--------------------+\n",
            "|      1| summer squash salad|Healthy Food|    veg|white balsamic vi...|\n",
            "|      2|chicken minced salad|Healthy Food|non-veg|olive oil, chicke...|\n",
            "|      3|sweet chilli almonds|       Snack|    veg|almonds whole, eg...|\n",
            "|      4|     tricolour salad|Healthy Food|    veg|vinegar, honey/su...|\n",
            "|      5|      christmas cake|     Dessert|    veg|christmas dry fru...|\n",
            "+-------+--------------------+------------+-------+--------------------+\n",
            "only showing top 5 rows\n",
            "\n",
            "root\n",
            " |-- Food_ID: integer (nullable = true)\n",
            " |-- Name: string (nullable = true)\n",
            " |-- C_Type: string (nullable = true)\n",
            " |-- Veg_Non: string (nullable = true)\n",
            " |-- Describe: string (nullable = true)\n",
            "\n",
            "+-------+--------------------+--------------------+\n",
            "|Food_ID|                Name|            features|\n",
            "+-------+--------------------+--------------------+\n",
            "|      1| summer squash salad|(1000,[2,52,83,97...|\n",
            "|      2|chicken minced salad|(1000,[1,52,74,13...|\n",
            "|      3|sweet chilli almonds|(1000,[52,130,190...|\n",
            "|      4|     tricolour salad|(1000,[56,83,103,...|\n",
            "|      5|      christmas cake|(1000,[41,47,82,1...|\n",
            "+-------+--------------------+--------------------+\n",
            "only showing top 5 rows\n",
            "\n",
            "+-------+--------------------+-------+\n",
            "|Food_ID|                Name|cluster|\n",
            "+-------+--------------------+-------+\n",
            "|      1| summer squash salad|      0|\n",
            "|      2|chicken minced salad|      2|\n",
            "|      3|sweet chilli almonds|      0|\n",
            "|      4|     tricolour salad|      0|\n",
            "|      5|      christmas cake|      0|\n",
            "+-------+--------------------+-------+\n",
            "only showing top 5 rows\n",
            "\n",
            "+-------+--------------------+\n",
            "|Food_ID|                Name|\n",
            "+-------+--------------------+\n",
            "|      1| summer squash salad|\n",
            "|      3|sweet chilli almonds|\n",
            "|      4|     tricolour salad|\n",
            "|      5|      christmas cake|\n",
            "|      7|chocolate nero co...|\n",
            "+-------+--------------------+\n",
            "only showing top 5 rows\n",
            "\n"
          ]
        }
      ]
    },
    {
      "cell_type": "code",
      "source": [
        "!git clone https://github.com/GautamTopper/160122771039-BDA.git\n"
      ],
      "metadata": {
        "colab": {
          "base_uri": "https://localhost:8080/"
        },
        "id": "csa5mROPvMQK",
        "outputId": "5351d0c4-411d-4151-b2b8-8ddc4700ba59"
      },
      "execution_count": 4,
      "outputs": [
        {
          "output_type": "stream",
          "name": "stdout",
          "text": [
            "Cloning into '160122771039-BDA'...\n",
            "warning: You appear to have cloned an empty repository.\n"
          ]
        }
      ]
    },
    {
      "cell_type": "code",
      "source": [
        "!mv /content/160122771039.ipynb /content/160122771039-BDA/\n"
      ],
      "metadata": {
        "colab": {
          "base_uri": "https://localhost:8080/"
        },
        "id": "Tfp8Ym6zvQnA",
        "outputId": "36db60f0-7057-4d1e-d3ba-a30dea438c23"
      },
      "execution_count": 6,
      "outputs": [
        {
          "output_type": "stream",
          "name": "stdout",
          "text": [
            "mv: cannot stat '/content/160122771039.ipynb': No such file or directory\n"
          ]
        }
      ]
    },
    {
      "cell_type": "code",
      "source": [
        "%cd /content/160122771039-BDA\n"
      ],
      "metadata": {
        "colab": {
          "base_uri": "https://localhost:8080/"
        },
        "id": "gU-8veMZvvqJ",
        "outputId": "84b23892-0765-4d90-bd60-7f355020333c"
      },
      "execution_count": 7,
      "outputs": [
        {
          "output_type": "stream",
          "name": "stdout",
          "text": [
            "/content/160122771039-BDA\n"
          ]
        }
      ]
    },
    {
      "cell_type": "code",
      "source": [
        "# Clone the repository\n",
        "!git clone https://github.com/GautamTopper/160122771039-BDA.git\n",
        "\n",
        "# Change directory to the cloned repository\n",
        "%cd 160122771039-BDA\n",
        "\n",
        "# Add your notebook file (replace 'your_notebook.ipynb' with the actual name of your notebook)\n",
        "!git add your_notebook.ipynb\n",
        "\n",
        "# Commit the changes\n",
        "!git commit -m \"Add initial Colab notebook\"\n",
        "\n",
        "# Push to GitHub (assuming your branch is 'main')\n",
        "!git push -u origin main\n"
      ],
      "metadata": {
        "colab": {
          "base_uri": "https://localhost:8080/"
        },
        "id": "a75p-CUHvzVB",
        "outputId": "bd742c80-8211-4ab1-a661-e7f20e22c90a"
      },
      "execution_count": 10,
      "outputs": [
        {
          "output_type": "stream",
          "name": "stdout",
          "text": [
            "Cloning into '160122771039-BDA'...\n",
            "warning: You appear to have cloned an empty repository.\n",
            "/content/160122771039-BDA/160122771039-BDA/160122771039-BDA\n",
            "fatal: pathspec 'your_notebook.ipynb' did not match any files\n",
            "On branch main\n",
            "\n",
            "Initial commit\n",
            "\n",
            "nothing to commit (create/copy files and use \"git add\" to track)\n",
            "error: src refspec main does not match any\n",
            "\u001b[31merror: failed to push some refs to 'https://github.com/GautamTopper/160122771039-BDA.git'\n",
            "\u001b[m"
          ]
        }
      ]
    }
  ]
}